{
 "cells": [
  {
   "cell_type": "markdown",
   "metadata": {},
   "source": [
    "## Mathematics\n",
    "\n",
    "1. Now we turn to actually using some mathematics and developing the ideas of _arrays_. Arrays allow us to perform mathematics on many numbers at once, which is extremely useful for data analysis.  The core numerical part of python is the package `numpy`.  Numpy has implemented nearly all of the standard numerical methods used in physics.  These implementations have, at their core, connections to high performance C and Fortran code that takes advantage of compiled language speed.  This difference means that array operations are much faster than loops.\n",
    "\n",
    "Python does not start up with `numpy` routines loaded.  We first need to import the package.  There are three different choices of syntax.  First, we can import the package.\n",
    "\n",
    "```\n",
    "import numpy\n",
    "```\n",
    "\n",
    "which makes many of the methods accessible by calling `numpy.name`.  For example, the square-root function is called `sqrt()` in numpy so we can take a square root of a number:\n",
    "\n",
    "```\n",
    "numpy.sqrt(5)\n",
    "```\n",
    "\n",
    "But keystrokes are time so we can be lazier and give numpy an alias, which we usually call `np`.\n",
    "\n",
    "```\n",
    "import numpy as np\n",
    "np.sqrt(5)\n",
    "```\n",
    "\n",
    "Finally, the method you shouldn't use is to import all the numpy functions into the main \"namespace\" of the program, but this can lead to Very Bad Side Effects, so we discourage it.  However, you can do this by asking for all (`*`) the functions in numpy.\n",
    "\n",
    "```\n",
    "from numpy import *\n",
    "sqrt(5)\n",
    "```\n",
    "\n",
    "Let's try it live:"
   ]
  },
  {
   "cell_type": "code",
   "execution_count": null,
   "metadata": {},
   "outputs": [],
   "source": [
    "import numpy as np\n",
    "np.sqrt(5)"
   ]
  },
  {
   "cell_type": "markdown",
   "metadata": {},
   "source": [
    "2. Numpy provides many basic math functions.  Here are python implementations of:\n",
    "\n",
    "$$ \\sin(2\\pi), \\sinh(2\\pi), e^{-3}, (2+2i) e^{3i} $$"
   ]
  },
  {
   "cell_type": "code",
   "execution_count": null,
   "metadata": {},
   "outputs": [],
   "source": [
    "np.sin(2 * np.pi), np.sinh(2 * np.pi), np.exp(-3), (2 + 2j) * np.exp(3j)"
   ]
  },
  {
   "cell_type": "markdown",
   "metadata": {},
   "source": [
    "3. The first entry in our tuple of answers should be exactly zero, but it isn't owing to the floating-point arithmetic precision in python.  This is below the precision that the computer can reliably approximate with its numerical algorithms. Also, trig functions are always in radians and Python uses `1j` to indicate complex number $\\sqrt{-1}$.\n",
    "\n",
    "    Numpy also provides arrays, which use similar notation as lists but are primary for lists of numbers and have mathematical methods and properties.  You can turn lists into arrays with the `np.array()` function."
   ]
  },
  {
   "cell_type": "code",
   "execution_count": null,
   "metadata": {},
   "outputs": [],
   "source": [
    "x = np.array([1, 3, 5, 7])\n",
    "y = np.array([2, 4, 0, 2])\n",
    "print(x)\n",
    "print(x**2)\n",
    "print(x + y)"
   ]
  },
  {
   "cell_type": "markdown",
   "metadata": {},
   "source": [
    "4. Arrays operations act _element-wise_ allowing manipulation of all the numbers in the array. Array operations are FAST. Let's compare two ways of doubling every element in an array.  Try changing the number of elements in the variable `a` to be larger and see how it affects the time."
   ]
  },
  {
   "cell_type": "code",
   "execution_count": null,
   "metadata": {},
   "outputs": [],
   "source": [
    "import time # This is a module that uses the computer clock to find the time\n",
    "\n",
    "\n",
    "a = np.arange(1000000)  # Make an array of numbers running from 1 to 1000000.\n",
    "time1 = time.time() # First time check, measured in seconds.\n",
    "for i in range(len(a)):  \n",
    "    a[i] = a[i] * 2 # Double every value of the array\n",
    "\n",
    "time2 = time.time()  # Measure time for end of loop method and start of array method\n",
    "b = a * 2  # Double every value of the array by array arithmetic.\n",
    "time3 = time.time() # Measure time for end of array method\n",
    "print(\"Loop method: \", time2 - time1, \" seconds\")\n",
    "print(\"Array method: \", time3 - time2, \" seconds\")"
   ]
  },
  {
   "cell_type": "markdown",
   "metadata": {},
   "source": [
    "5. Arrays can have many dimensions (up to 32).  Here is a $2\\times 2$ array."
   ]
  },
  {
   "cell_type": "code",
   "execution_count": null,
   "metadata": {},
   "outputs": [],
   "source": [
    "z = np.array([[1, 2],\n",
    "             [3, 4]])\n",
    "w = np.array([[5, 6],\n",
    "             [7, 8]])\n",
    "print(z)\n",
    "print(z * w)"
   ]
  },
  {
   "cell_type": "markdown",
   "metadata": {},
   "source": [
    "5. Arrays are _not_ matrices in the math sense but we can force them to behave like matrices.  To trigger matrix multiplication, we can use the `@` operator or `np.matmul` and access the elements with indices.  The PHYS 144/146 manual also uses the function `np.dot()` for matrix multiplication.  If you need that later, you can read about it [here](https://docs.scipy.org/doc/numpy/reference/generated/numpy.dot.html)."
   ]
  },
  {
   "cell_type": "code",
   "execution_count": null,
   "metadata": {},
   "outputs": [],
   "source": [
    "print(np.matmul(z, w))\n",
    "prod = z @ w\n",
    "print(prod[1, 0])"
   ]
  },
  {
   "cell_type": "markdown",
   "metadata": {},
   "source": [
    "6. We can also do exciting things like determinants and inverses using the linear algebra subpackage for numpy `np.linalg`.  We call functions within subpackages by connecting the functions \"address\" up with periods (`.`):"
   ]
  },
  {
   "cell_type": "code",
   "execution_count": null,
   "metadata": {
    "scrolled": true
   },
   "outputs": [],
   "source": [
    "bigarray = np.array([[0,2,3,4],\n",
    "                     [5,6,7,8],\n",
    "                     [9,10,11,12],\n",
    "                     [13,14,15,0]])\n",
    "print(\"Determinant:\")\n",
    "print(np.linalg.det(bigarray))\n",
    "print(\"Inverse:\")\n",
    "print(np.linalg.inv(bigarray))"
   ]
  },
  {
   "cell_type": "markdown",
   "metadata": {},
   "source": [
    "7. We can also generate sets of numbers with uniform spacing.  For example, we can generate uniformly grids of numbers using `linspace(StartValue, StopValue, NumberOfSteps)` or `arange(StartValue, StopValue, Interval)`.  What are the differences between these two arrays that count from 1 to 10?"
   ]
  },
  {
   "cell_type": "code",
   "execution_count": null,
   "metadata": {},
   "outputs": [],
   "source": [
    "A = np.linspace(1, 10, 10)\n",
    "B = np.arange(1, 10, 1)"
   ]
  },
  {
   "cell_type": "markdown",
   "metadata": {},
   "source": [
    "8. Arrays have many methods that can be used on them. Here is the sum of all the integers\n",
    "between 1 and 100, inclusive of the endpoints:"
   ]
  },
  {
   "cell_type": "code",
   "execution_count": null,
   "metadata": {},
   "outputs": [],
   "source": [
    "print(np.linspace(1, 100, 100).sum())"
   ]
  },
  {
   "cell_type": "markdown",
   "metadata": {},
   "source": [
    "**Exercise 1**: Calculate the standard deviation of all the odd numbers between 1 and 999, inclusive of the end points.  Make sure to check out this documentation on statistical functions in numpy [here](https://docs.scipy.org/doc/numpy/reference/routines.statistics.html)."
   ]
  },
  {
   "cell_type": "code",
   "execution_count": null,
   "metadata": {},
   "outputs": [],
   "source": []
  },
  {
   "cell_type": "code",
   "execution_count": null,
   "metadata": {},
   "outputs": [],
   "source": []
  }
 ],
 "metadata": {
  "kernelspec": {
   "display_name": "Python 3",
   "language": "python",
   "name": "python3"
  },
  "language_info": {
   "codemirror_mode": {
    "name": "ipython",
    "version": 3
   },
   "file_extension": ".py",
   "mimetype": "text/x-python",
   "name": "python",
   "nbconvert_exporter": "python",
   "pygments_lexer": "ipython3",
   "version": "3.6.5"
  }
 },
 "nbformat": 4,
 "nbformat_minor": 2
}
