{
 "cells": [
  {
   "cell_type": "markdown",
   "metadata": {},
   "source": [
    "## Working with data\n",
    "\n",
    "1. A key strength of numpy is to work with experimental data.  We'll examine how to get the data into python here, and then to plot and manipulate it.  For plotting we will use the `matplotlib` package."
   ]
  },
  {
   "cell_type": "code",
   "execution_count": null,
   "metadata": {},
   "outputs": [],
   "source": [
    "import numpy as np\n",
    "import matplotlib.pyplot as plt\n",
    "%matplotlib inline\n",
    "# The last line is a \"magic\" function that makes are plots appear as part of the notebook"
   ]
  },
  {
   "cell_type": "markdown",
   "metadata": {},
   "source": [
    "2. We will import the data from the file `data.csv` that contains some experimental data.  The data is a \"comma-separated-value\" file or a `csv` file, meaning that the columns of data are separated by a comma (`,`).  We will bring this into the python environment using the `np.loadtxt()` function. The file has titles in the first row, which we will ignore using the `skiprows=1` keyword for `np.loadtxt()`."
   ]
  },
  {
   "cell_type": "code",
   "execution_count": null,
   "metadata": {},
   "outputs": [],
   "source": [
    "data = np.loadtxt('data.csv', delimiter=',', skiprows=1)\n",
    "print(data.shape)"
   ]
  },
  {
   "cell_type": "markdown",
   "metadata": {},
   "source": [
    "3. The `data.shape` property tells us the dimensions of the array: 75 data and 3 variables.  We can pull these arrays into different variables using \"slices\".  The most straight forward slice is to extract all the elements along a given axis.  We want all 75 data for the first variable and we will call it time:\n"
   ]
  },
  {
   "cell_type": "code",
   "execution_count": null,
   "metadata": {},
   "outputs": [],
   "source": [
    "time = data[:, 0]"
   ]
  },
  {
   "cell_type": "markdown",
   "metadata": {},
   "source": [
    "4. Extract the next column into a variable called `x` and the final column into a variable called `error`."
   ]
  },
  {
   "cell_type": "code",
   "execution_count": null,
   "metadata": {},
   "outputs": [],
   "source": [
    "position = data[:, 1]\n",
    "error = data[:, 2]"
   ]
  },
  {
   "cell_type": "markdown",
   "metadata": {},
   "source": [
    "5. Now, let's make our first plot of the data against each other."
   ]
  },
  {
   "cell_type": "code",
   "execution_count": null,
   "metadata": {},
   "outputs": [],
   "source": [
    "plt.plot(time, position, marker='o', color='black', linestyle='None')\n",
    "plt.xlabel('Time')\n",
    "plt.ylabel('Position')\n",
    "plt.savefig('MyFirstPlot.png') # This saves the figure.  \n",
    "# The figure type is determined by the suffix (here it's PNG)"
   ]
  },
  {
   "cell_type": "markdown",
   "metadata": {},
   "source": [
    "6. It looks like we have some bad data in there! We can then filter out all the bad data with values larger than 5 using a logical test.  We create an array of variables to `keep` using a logical operator.  Then this array of booleans can be used to select out the corresponding data."
   ]
  },
  {
   "cell_type": "code",
   "execution_count": null,
   "metadata": {},
   "outputs": [],
   "source": [
    "keep = position < 5.0\n",
    "print(keep)\n",
    "time = time[keep]\n",
    "position = position[keep]\n",
    "error = error[keep]"
   ]
  },
  {
   "cell_type": "markdown",
   "metadata": {},
   "source": [
    "7. Now make a plot of the filtered data.  Except, we want square points that are coloured red.  See [here](https://matplotlib.org/api/markers_api.html) for more documentation on markers."
   ]
  },
  {
   "cell_type": "code",
   "execution_count": null,
   "metadata": {},
   "outputs": [],
   "source": [
    "plt.plot(time, position, marker='s', color='red', linestyle='None')\n",
    "plt.xlabel('Time')\n",
    "plt.ylabel('Position')"
   ]
  },
  {
   "cell_type": "markdown",
   "metadata": {},
   "source": [
    "**Exercise 1** Review the documentaton for the `errorbar` function to add errror bars to the plot with magnitude equal to the `error` array.  The documentation is available [here](https://matplotlib.org/api/_as_gen/matplotlib.pyplot.errorbar.html).  Let's make the error bars red and the square data points black.  Save the figure to a JPEG file called `ErrorBar.jpg`."
   ]
  },
  {
   "cell_type": "code",
   "execution_count": null,
   "metadata": {},
   "outputs": [],
   "source": [
    "# Your code here"
   ]
  },
  {
   "cell_type": "markdown",
   "metadata": {},
   "source": [
    "8. Next, let's fit a linear regression to these data.  The linear regression problem is a problem of \"least squares\" meaning that the linear fit is a line with parameters $m , b$ that minimze the expression\n",
    "\n",
    "$$ \\chi^2 = \\sum_i \\frac{(y_i - m x_i - b)^2}{2\\sigma_i^2}$$\n",
    "\n",
    "We can minmize this expression by computing derivatives of this expression and setting them to zero to get the resulting expressions for $m, b$.\n",
    "\n",
    "$$ m = \\frac{\\sum_i(y_i - \\bar{y})(x_i - \\bar{x})}{\\sum_i (x_i - \\bar{x})^2} $$\n",
    "\n",
    "$$ b = \\bar{y} - m \\bar{x}$$\n",
    "\n",
    "where $\\bar{y}$ indicates the mean of the data $y_i$:\n",
    "\n",
    "$$ \\bar{y} = \\frac{\\sum_i y_i}{N}$$\n",
    "\n",
    "and here $N$ is the number of data.  We have ignored the effects of the different uncertainties since we're focusing on the python side of things here."
   ]
  },
  {
   "cell_type": "markdown",
   "metadata": {},
   "source": [
    "**Exercise 2**: Write a function that returns the estimators for $m$ and $b$ given two input vectors x, y.  A placeholder function is given below.  Note you can use the `numpy` functions `np.sum()` and `np.mean()` here."
   ]
  },
  {
   "cell_type": "code",
   "execution_count": null,
   "metadata": {},
   "outputs": [],
   "source": [
    "def linear_fit(x, y):\n",
    "    # Your code here\n",
    "    return(m, b)"
   ]
  },
  {
   "cell_type": "markdown",
   "metadata": {},
   "source": [
    "**Exercise 3**: Use your function to fit the position vs time data from above and draw the line on the graph.  Here is a good opportunity to use the `np.linspace()` operator."
   ]
  },
  {
   "cell_type": "code",
   "execution_count": null,
   "metadata": {},
   "outputs": [],
   "source": []
  },
  {
   "cell_type": "markdown",
   "metadata": {},
   "source": [
    "Since fitting functions is a common operation, numpy knows how to do this and more.  We use a more general function that fits polynomials (`np.polyfit()`) and just use a first-degree polynomial to get a linear fit here.  The documentation on `np.polyfit()` is available [here](https://docs.scipy.org/doc/numpy/reference/generated/numpy.polyfit.html).  In particular, we are going to do a weighted regression, which weights the fit by the uncertainties of the data.  For this, we use the weights $w_i = 1/\\sigma_i$ so data with big errors have less weight in the fit.  For this purpose, the PHYS 144/146 labs use the `curve_fit` routine from another package called `scipy`."
   ]
  },
  {
   "cell_type": "code",
   "execution_count": null,
   "metadata": {},
   "outputs": [],
   "source": [
    "degree = 1\n",
    "coefficients = np.polyfit(time, position, degree, w=1/error)\n",
    "print(\"Slope: \", coefficients[0])\n",
    "print(\"Y-intercept: \", coefficients[1])"
   ]
  },
  {
   "cell_type": "code",
   "execution_count": null,
   "metadata": {},
   "outputs": [],
   "source": []
  }
 ],
 "metadata": {
  "kernelspec": {
   "display_name": "Python 3",
   "language": "python",
   "name": "python3"
  },
  "language_info": {
   "codemirror_mode": {
    "name": "ipython",
    "version": 3
   },
   "file_extension": ".py",
   "mimetype": "text/x-python",
   "name": "python",
   "nbconvert_exporter": "python",
   "pygments_lexer": "ipython3",
   "version": "3.6.5"
  }
 },
 "nbformat": 4,
 "nbformat_minor": 2
}
