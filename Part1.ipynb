{
 "cells": [
  {
   "cell_type": "markdown",
   "metadata": {},
   "source": [
    "## The Begining\n",
    "\n",
    "1. Welcome to python.  This is a notebook file which is good for learning about python and for experiments.  It is less useful for actual development and building robust code.  It's great because I can include some text here and then in the next block, we can execute code. To run the code, you click in the cell and press the `Run` button or press `Shift-Return`.  A classic example of code is running the \"Hello World\" program.  Here it is in python:"
   ]
  },
  {
   "cell_type": "code",
   "execution_count": null,
   "metadata": {},
   "outputs": [],
   "source": [
    "print(\"Hello world!\")"
   ]
  },
  {
   "cell_type": "markdown",
   "metadata": {},
   "source": [
    "2. Modify the above code so the computer greets you by name instead of just addressing the boring old \"world\".\n",
    "\n",
    "   Python is also a great calculator.  I actually do most of my math by starting python and just typing math.  Try out this math!"
   ]
  },
  {
   "cell_type": "code",
   "execution_count": null,
   "metadata": {},
   "outputs": [],
   "source": [
    "1 + 1, 18 - 12, 2 * 7, 26 / 9, 2**4"
   ]
  },
  {
   "cell_type": "markdown",
   "metadata": {},
   "source": [
    "3. Note that in Python 3, division in a floating-point divide. Floating point numbers is a standard for how computers approximate decimals.  Since computers have limited memory associated with numbers, these values have some limited precision.  Considering division again, you can get an integer divide and the remainder (modular arithmetic).  If you are back in Grade 4, you might remember that $26 \\div 9 = 2~\\mathrm{remainder}~8$.  Here it is in python."
   ]
  },
  {
   "cell_type": "code",
   "execution_count": null,
   "metadata": {},
   "outputs": [],
   "source": [
    "26 // 9, 26 % 9"
   ]
  },
  {
   "cell_type": "markdown",
   "metadata": {},
   "source": [
    "4. Note that Python is doing something cool here.  Python uses \"implicit printing\" which means if you just type an expression or a name of a computer variable at the prompt, it will print what the result of the expression or what the variable is.  Thus, python went ahead and printed the result of the call to the math functions.\n",
    "\n",
    "    In the next cell use python to evaluate\n",
    "\n",
    "$$\\frac{(37 \\times 18)^{5.2}}{7} - 6=$$"
   ]
  },
  {
   "cell_type": "code",
   "execution_count": null,
   "metadata": {},
   "outputs": [],
   "source": []
  },
  {
   "cell_type": "markdown",
   "metadata": {},
   "source": [
    "5. A key part of programming is variables.  You can set variables using the definition operator which is a single equals sign `=`."
   ]
  },
  {
   "cell_type": "code",
   "execution_count": null,
   "metadata": {},
   "outputs": [],
   "source": [
    "a = 3 * 1.7\n",
    "b = 5 - 2.1\n",
    "print(a * b)"
   ]
  },
  {
   "cell_type": "markdown",
   "metadata": {},
   "source": [
    "6. For most _but not all_ data types, when you define one variable to be another it will make a copy of that variable.  Study the block of code below and predict the output.  Then run the code."
   ]
  },
  {
   "cell_type": "code",
   "execution_count": null,
   "metadata": {},
   "outputs": [],
   "source": [
    "a = 3\n",
    "b = a\n",
    "print(b)\n",
    "a = 6\n",
    "print(b)"
   ]
  },
  {
   "cell_type": "markdown",
   "metadata": {},
   "source": [
    "7. Vital to any programming language is the idea of a _data type_, which the language uses to store data in memory and interpret instructions.  We've seen two main data types so far: strings and (floating point) numbers.  Strings use quotation marks to identify the start and end of a string.  You can use either pairs of single or double quotes: `'` or `\"`.  Numbers and variables do not have quotes around them.  Different data types (strings, numbers) interpret operations (`+`) differently:"
   ]
  },
  {
   "cell_type": "code",
   "execution_count": null,
   "metadata": {},
   "outputs": [],
   "source": [
    "print(1 + 2)\n",
    "print(\"1\" + \"2\")"
   ]
  },
  {
   "cell_type": "code",
   "execution_count": null,
   "metadata": {},
   "outputs": [],
   "source": [
    "print(1 - 2)\n",
    "print(\"1\" - \"2\")"
   ]
  },
  {
   "cell_type": "markdown",
   "metadata": {},
   "source": [
    "8. In the first block, you see the difference between the `+` operator for numbers (addition) or strings (_concatenation_ or \"squishing together\").  The last operation, subtraction of strings, is not defined so this triggers an error. However, subtracting numbers is fine.\n",
    "\n",
    "   You might note that we were separating our math by commas (`,`) above and the answers were coming out in round brackets (parentheses).  This is because values joined by commas in Python form a special data type called a _tuple_.  Tuples are just a general bundle of variables that can contain any other data type, even other tuples."
   ]
  },
  {
   "cell_type": "code",
   "execution_count": null,
   "metadata": {},
   "outputs": [],
   "source": [
    "tup = (3.2, \"Pants\", (3, 5), \"Noodles\", 17, \"LastElement\")"
   ]
  },
  {
   "cell_type": "markdown",
   "metadata": {},
   "source": [
    "9. You can access elements in that bundle using indexing.  Python is \"zero indexed\" meaning that counting starts with 0 and indices must be integers not decimals.  Use the `int()` function to convert a floating point (decimal) number to an integer."
   ]
  },
  {
   "cell_type": "code",
   "execution_count": null,
   "metadata": {},
   "outputs": [],
   "source": [
    "print(tup[1])"
   ]
  },
  {
   "cell_type": "code",
   "execution_count": null,
   "metadata": {},
   "outputs": [],
   "source": [
    "print(tup[1.0])"
   ]
  },
  {
   "cell_type": "code",
   "execution_count": null,
   "metadata": {},
   "outputs": [],
   "source": [
    "print(tup[int(1.0)])"
   ]
  },
  {
   "cell_type": "markdown",
   "metadata": {},
   "source": [
    "10. Predict what these two code blocks will do return and then execute them."
   ]
  },
  {
   "cell_type": "code",
   "execution_count": null,
   "metadata": {},
   "outputs": [],
   "source": [
    "print(tup[2][0])"
   ]
  },
  {
   "cell_type": "code",
   "execution_count": null,
   "metadata": {},
   "outputs": [],
   "source": [
    "print(tup[-1])"
   ]
  },
  {
   "cell_type": "markdown",
   "metadata": {},
   "source": [
    "11. Tuples are similar to another data type called a _list_, denoted with square brackets `[` and `]`.  In general, tuples should be used for groups mixed data types and lists should be homogenous (many elements of the same type).  In particular lists ordered and the order of elements can change.  \n",
    "\n",
    "    Python data types are heavily \"object-oriented\" which means that each object has many properties and methods attached to it that can be run by attaching a `.property` or `.method()`.  Properties describe the object, methods perform operations on the object and can return values.  Here, we will use the `.sort()` method available for lists and this sorts the list in place."
   ]
  },
  {
   "cell_type": "code",
   "execution_count": null,
   "metadata": {},
   "outputs": [],
   "source": [
    "mylist = [\"Q\", \"A\", \"B\", \"Honey Badger\", \"3\"]\n",
    "mylist.sort()\n",
    "print(mylist)"
   ]
  },
  {
   "cell_type": "markdown",
   "metadata": {},
   "source": [
    "12. Lists can also be indexed like tuples. We also often use slices to extract parts of the list.  A slice is indicated with a colon (`:`).  By itself, the `:` returns the full list but you can use the syntax `start:end` for a slice to pull out a range.  Note that slices are extracted from the start up to _but not including_ the `end`.  Using both `start` and `end` is optional.  If one is missing it picks all the elements of the array on that side of the slice. Run the following code block and then modify it to select the last three elements of the array.  Recall that the last element of an array is indexed with `-1`."
   ]
  },
  {
   "cell_type": "code",
   "execution_count": null,
   "metadata": {},
   "outputs": [],
   "source": [
    "print(mylist[1:4])"
   ]
  },
  {
   "cell_type": "markdown",
   "metadata": {},
   "source": [
    "13. Python uses whitespace for flow control. This means that different parts of a program are indicated by indents (use four spaces; tabs are strongly discouraged).  Here is an if-then-else block in python.  Try changing `d` to different numbers and running this code block to catch all the cases.  The `==` is a logical operator that tests if two values are equal."
   ]
  },
  {
   "cell_type": "code",
   "execution_count": null,
   "metadata": {},
   "outputs": [],
   "source": [
    "d = 5\n",
    "if (d % 2) == 0:\n",
    "    print(\"d is even\")\n",
    "elif (d % 2) == 1:\n",
    "    print(\"d is odd\")\n",
    "else:\n",
    "    print(\"d is not an integer\")"
   ]
  },
  {
   "cell_type": "markdown",
   "metadata": {},
   "source": [
    "14. There are many other logical operators, but we mostly use comparison (`>` or `<`) and equality tests. Without the `if` statement, the code `(d % 2) == 0` produces a Boolean variable (`True` or `False`), which is a new data type."
   ]
  },
  {
   "cell_type": "code",
   "execution_count": null,
   "metadata": {},
   "outputs": [],
   "source": [
    "d = 7.2\n",
    "print((d % 2) == 0)"
   ]
  },
  {
   "cell_type": "markdown",
   "metadata": {},
   "source": [
    "15. We also can define functions of our own that accept inputs and return outputs.  This process also uses indentation to indicate the beginning and end of the function."
   ]
  },
  {
   "cell_type": "code",
   "execution_count": null,
   "metadata": {},
   "outputs": [],
   "source": [
    "def powers(x):\n",
    "    # Return x^2 and x^3\n",
    "    return(x**2, x**3)"
   ]
  },
  {
   "cell_type": "code",
   "execution_count": null,
   "metadata": {},
   "outputs": [],
   "source": [
    "powers(2)"
   ]
  },
  {
   "cell_type": "code",
   "execution_count": null,
   "metadata": {},
   "outputs": [],
   "source": [
    "powers(4)"
   ]
  },
  {
   "cell_type": "markdown",
   "metadata": {},
   "source": [
    "**Exercise 1**: Edit the `powers()` function to also return $x^4$."
   ]
  },
  {
   "cell_type": "markdown",
   "metadata": {},
   "source": [
    "**Exercise 2**: Write your own function that returns _both_ roots of the quadratic equation\n",
    "    \n",
    "$$ax^2 + bx + c = 0\\mbox{ namely } \\frac{-b \\pm \\sqrt{b^2-4ac}}{2a}$$ \n",
    "\n",
    "use your expression to find the roots of $1x^2 + 0x - 9 = 0$."
   ]
  },
  {
   "cell_type": "code",
   "execution_count": null,
   "metadata": {},
   "outputs": [],
   "source": [
    "def quadratic(a, b, c):\n",
    "    # Insert your code here\n",
    "    return(plusroot, minusroot)"
   ]
  }
 ],
 "metadata": {
  "kernelspec": {
   "display_name": "Python 3",
   "language": "python",
   "name": "python3"
  },
  "language_info": {
   "codemirror_mode": {
    "name": "ipython",
    "version": 3
   },
   "file_extension": ".py",
   "mimetype": "text/x-python",
   "name": "python",
   "nbconvert_exporter": "python",
   "pygments_lexer": "ipython3",
   "version": "3.6.5"
  }
 },
 "nbformat": 4,
 "nbformat_minor": 2
}
